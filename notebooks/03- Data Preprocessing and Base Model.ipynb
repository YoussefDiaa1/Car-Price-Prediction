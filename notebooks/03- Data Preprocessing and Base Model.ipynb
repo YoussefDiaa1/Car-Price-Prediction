{
 "cells": [
  {
   "cell_type": "code",
   "execution_count": 1,
   "id": "30bbf05a",
   "metadata": {},
   "outputs": [
    {
     "data": {
      "text/html": [
       "<div>\n",
       "<style scoped>\n",
       "    .dataframe tbody tr th:only-of-type {\n",
       "        vertical-align: middle;\n",
       "    }\n",
       "\n",
       "    .dataframe tbody tr th {\n",
       "        vertical-align: top;\n",
       "    }\n",
       "\n",
       "    .dataframe thead th {\n",
       "        text-align: right;\n",
       "    }\n",
       "</style>\n",
       "<table border=\"1\" class=\"dataframe\">\n",
       "  <thead>\n",
       "    <tr style=\"text-align: right;\">\n",
       "      <th></th>\n",
       "      <th>Location</th>\n",
       "      <th>Year</th>\n",
       "      <th>Kilometers_Driven</th>\n",
       "      <th>Fuel_Type</th>\n",
       "      <th>Transmission</th>\n",
       "      <th>Owner_Type</th>\n",
       "      <th>Mileage</th>\n",
       "      <th>Engine</th>\n",
       "      <th>Power</th>\n",
       "      <th>Seats</th>\n",
       "      <th>Price</th>\n",
       "      <th>Brand</th>\n",
       "      <th>Model</th>\n",
       "    </tr>\n",
       "  </thead>\n",
       "  <tbody>\n",
       "    <tr>\n",
       "      <th>0</th>\n",
       "      <td>Mumbai</td>\n",
       "      <td>2010</td>\n",
       "      <td>72000</td>\n",
       "      <td>CNG</td>\n",
       "      <td>Manual</td>\n",
       "      <td>First</td>\n",
       "      <td>11.438</td>\n",
       "      <td>998.0</td>\n",
       "      <td>58.16</td>\n",
       "      <td>5.0</td>\n",
       "      <td>1.75</td>\n",
       "      <td>Maruti</td>\n",
       "      <td>Wagon</td>\n",
       "    </tr>\n",
       "    <tr>\n",
       "      <th>1</th>\n",
       "      <td>Pune</td>\n",
       "      <td>2015</td>\n",
       "      <td>41000</td>\n",
       "      <td>Diesel</td>\n",
       "      <td>Manual</td>\n",
       "      <td>First</td>\n",
       "      <td>19.670</td>\n",
       "      <td>1582.0</td>\n",
       "      <td>126.20</td>\n",
       "      <td>5.0</td>\n",
       "      <td>12.50</td>\n",
       "      <td>Hyundai</td>\n",
       "      <td>Creta</td>\n",
       "    </tr>\n",
       "    <tr>\n",
       "      <th>2</th>\n",
       "      <td>Chennai</td>\n",
       "      <td>2011</td>\n",
       "      <td>46000</td>\n",
       "      <td>Petrol</td>\n",
       "      <td>Manual</td>\n",
       "      <td>First</td>\n",
       "      <td>18.200</td>\n",
       "      <td>1199.0</td>\n",
       "      <td>88.70</td>\n",
       "      <td>5.0</td>\n",
       "      <td>4.50</td>\n",
       "      <td>Honda</td>\n",
       "      <td>Jazz</td>\n",
       "    </tr>\n",
       "    <tr>\n",
       "      <th>3</th>\n",
       "      <td>Chennai</td>\n",
       "      <td>2012</td>\n",
       "      <td>87000</td>\n",
       "      <td>Diesel</td>\n",
       "      <td>Manual</td>\n",
       "      <td>First</td>\n",
       "      <td>20.770</td>\n",
       "      <td>1248.0</td>\n",
       "      <td>88.76</td>\n",
       "      <td>7.0</td>\n",
       "      <td>6.00</td>\n",
       "      <td>Maruti</td>\n",
       "      <td>Ertiga</td>\n",
       "    </tr>\n",
       "    <tr>\n",
       "      <th>4</th>\n",
       "      <td>Coimbatore</td>\n",
       "      <td>2013</td>\n",
       "      <td>40670</td>\n",
       "      <td>Diesel</td>\n",
       "      <td>Automatic</td>\n",
       "      <td>Second</td>\n",
       "      <td>15.200</td>\n",
       "      <td>1968.0</td>\n",
       "      <td>140.80</td>\n",
       "      <td>5.0</td>\n",
       "      <td>17.74</td>\n",
       "      <td>Audi</td>\n",
       "      <td>A4</td>\n",
       "    </tr>\n",
       "  </tbody>\n",
       "</table>\n",
       "</div>"
      ],
      "text/plain": [
       "     Location  Year  Kilometers_Driven Fuel_Type Transmission Owner_Type   \n",
       "0      Mumbai  2010              72000       CNG       Manual      First  \\\n",
       "1        Pune  2015              41000    Diesel       Manual      First   \n",
       "2     Chennai  2011              46000    Petrol       Manual      First   \n",
       "3     Chennai  2012              87000    Diesel       Manual      First   \n",
       "4  Coimbatore  2013              40670    Diesel    Automatic     Second   \n",
       "\n",
       "   Mileage  Engine   Power  Seats  Price    Brand   Model  \n",
       "0   11.438   998.0   58.16    5.0   1.75   Maruti   Wagon  \n",
       "1   19.670  1582.0  126.20    5.0  12.50  Hyundai   Creta  \n",
       "2   18.200  1199.0   88.70    5.0   4.50    Honda    Jazz  \n",
       "3   20.770  1248.0   88.76    7.0   6.00   Maruti  Ertiga  \n",
       "4   15.200  1968.0  140.80    5.0  17.74     Audi      A4  "
      ]
     },
     "execution_count": 1,
     "metadata": {},
     "output_type": "execute_result"
    }
   ],
   "source": [
    "import numpy as np\n",
    "import pandas as pd\n",
    "\n",
    "df = pd.read_csv('../data/cleaned_data.csv')\n",
    "df.head()"
   ]
  },
  {
   "cell_type": "code",
   "execution_count": 2,
   "id": "fb0ea675",
   "metadata": {},
   "outputs": [
    {
     "data": {
      "text/html": [
       "<div>\n",
       "<style scoped>\n",
       "    .dataframe tbody tr th:only-of-type {\n",
       "        vertical-align: middle;\n",
       "    }\n",
       "\n",
       "    .dataframe tbody tr th {\n",
       "        vertical-align: top;\n",
       "    }\n",
       "\n",
       "    .dataframe thead th {\n",
       "        text-align: right;\n",
       "    }\n",
       "</style>\n",
       "<table border=\"1\" class=\"dataframe\">\n",
       "  <thead>\n",
       "    <tr style=\"text-align: right;\">\n",
       "      <th></th>\n",
       "      <th>Year</th>\n",
       "      <th>Kilometers_Driven</th>\n",
       "      <th>Mileage</th>\n",
       "      <th>Engine</th>\n",
       "      <th>Power</th>\n",
       "      <th>Seats</th>\n",
       "      <th>Price</th>\n",
       "    </tr>\n",
       "  </thead>\n",
       "  <tbody>\n",
       "    <tr>\n",
       "      <th>count</th>\n",
       "      <td>6015.000000</td>\n",
       "      <td>6015.000000</td>\n",
       "      <td>5945.000000</td>\n",
       "      <td>5979.000000</td>\n",
       "      <td>5873.000000</td>\n",
       "      <td>5973.000000</td>\n",
       "      <td>6015.000000</td>\n",
       "    </tr>\n",
       "    <tr>\n",
       "      <th>mean</th>\n",
       "      <td>2013.357606</td>\n",
       "      <td>57670.791521</td>\n",
       "      <td>18.195348</td>\n",
       "      <td>1619.954842</td>\n",
       "      <td>113.128200</td>\n",
       "      <td>5.280261</td>\n",
       "      <td>9.425423</td>\n",
       "    </tr>\n",
       "    <tr>\n",
       "      <th>std</th>\n",
       "      <td>3.269967</td>\n",
       "      <td>37870.190126</td>\n",
       "      <td>4.151598</td>\n",
       "      <td>598.895895</td>\n",
       "      <td>53.507006</td>\n",
       "      <td>0.805087</td>\n",
       "      <td>10.905359</td>\n",
       "    </tr>\n",
       "    <tr>\n",
       "      <th>min</th>\n",
       "      <td>1998.000000</td>\n",
       "      <td>171.000000</td>\n",
       "      <td>5.676000</td>\n",
       "      <td>72.000000</td>\n",
       "      <td>34.200000</td>\n",
       "      <td>2.000000</td>\n",
       "      <td>0.440000</td>\n",
       "    </tr>\n",
       "    <tr>\n",
       "      <th>25%</th>\n",
       "      <td>2011.000000</td>\n",
       "      <td>34000.000000</td>\n",
       "      <td>15.150000</td>\n",
       "      <td>1198.000000</td>\n",
       "      <td>75.000000</td>\n",
       "      <td>5.000000</td>\n",
       "      <td>3.500000</td>\n",
       "    </tr>\n",
       "    <tr>\n",
       "      <th>50%</th>\n",
       "      <td>2014.000000</td>\n",
       "      <td>53000.000000</td>\n",
       "      <td>18.120000</td>\n",
       "      <td>1493.000000</td>\n",
       "      <td>97.700000</td>\n",
       "      <td>5.000000</td>\n",
       "      <td>5.630000</td>\n",
       "    </tr>\n",
       "    <tr>\n",
       "      <th>75%</th>\n",
       "      <td>2016.000000</td>\n",
       "      <td>73000.000000</td>\n",
       "      <td>21.030000</td>\n",
       "      <td>1984.000000</td>\n",
       "      <td>138.100000</td>\n",
       "      <td>5.000000</td>\n",
       "      <td>9.950000</td>\n",
       "    </tr>\n",
       "    <tr>\n",
       "      <th>max</th>\n",
       "      <td>2019.000000</td>\n",
       "      <td>775000.000000</td>\n",
       "      <td>28.400000</td>\n",
       "      <td>5998.000000</td>\n",
       "      <td>552.000000</td>\n",
       "      <td>10.000000</td>\n",
       "      <td>100.000000</td>\n",
       "    </tr>\n",
       "  </tbody>\n",
       "</table>\n",
       "</div>"
      ],
      "text/plain": [
       "              Year  Kilometers_Driven      Mileage       Engine        Power   \n",
       "count  6015.000000        6015.000000  5945.000000  5979.000000  5873.000000  \\\n",
       "mean   2013.357606       57670.791521    18.195348  1619.954842   113.128200   \n",
       "std       3.269967       37870.190126     4.151598   598.895895    53.507006   \n",
       "min    1998.000000         171.000000     5.676000    72.000000    34.200000   \n",
       "25%    2011.000000       34000.000000    15.150000  1198.000000    75.000000   \n",
       "50%    2014.000000       53000.000000    18.120000  1493.000000    97.700000   \n",
       "75%    2016.000000       73000.000000    21.030000  1984.000000   138.100000   \n",
       "max    2019.000000      775000.000000    28.400000  5998.000000   552.000000   \n",
       "\n",
       "             Seats        Price  \n",
       "count  5973.000000  6015.000000  \n",
       "mean      5.280261     9.425423  \n",
       "std       0.805087    10.905359  \n",
       "min       2.000000     0.440000  \n",
       "25%       5.000000     3.500000  \n",
       "50%       5.000000     5.630000  \n",
       "75%       5.000000     9.950000  \n",
       "max      10.000000   100.000000  "
      ]
     },
     "execution_count": 2,
     "metadata": {},
     "output_type": "execute_result"
    }
   ],
   "source": [
    "df.describe()"
   ]
  },
  {
   "cell_type": "code",
   "execution_count": 3,
   "id": "86997030",
   "metadata": {},
   "outputs": [
    {
     "data": {
      "text/plain": [
       "Location               0\n",
       "Year                   0\n",
       "Kilometers_Driven      0\n",
       "Fuel_Type              0\n",
       "Transmission           0\n",
       "Owner_Type             0\n",
       "Mileage               70\n",
       "Engine                36\n",
       "Power                142\n",
       "Seats                 42\n",
       "Price                  0\n",
       "Brand                  0\n",
       "Model                  0\n",
       "dtype: int64"
      ]
     },
     "execution_count": 3,
     "metadata": {},
     "output_type": "execute_result"
    }
   ],
   "source": [
    "df.isna().sum()"
   ]
  },
  {
   "cell_type": "code",
   "execution_count": 4,
   "id": "2c86e104",
   "metadata": {},
   "outputs": [
    {
     "data": {
      "text/plain": [
       "<Axes: >"
      ]
     },
     "execution_count": 4,
     "metadata": {},
     "output_type": "execute_result"
    },
    {
     "data": {
      "image/png": "[encoded data removed]",
      "text/plain": [
       "<Figure size 2500x1000 with 2 Axes>"
      ]
     },
     "metadata": {},
     "output_type": "display_data"
    }
   ],
   "source": [
    "import missingno as msno\n",
    "\n",
    "msno.matrix(df)"
   ]
  },
  {
   "cell_type": "markdown",
   "id": "fcba00c6",
   "metadata": {},
   "source": [
    "# Data Splitting"
   ]
  },
  {
   "cell_type": "markdown",
   "id": "82346b81",
   "metadata": {},
   "source": [
    "👉 We need to handle :\n",
    "* Missing Values.\n",
    "* Outliers.\n",
    "* Categorical."
   ]
  },
  {
   "cell_type": "code",
   "execution_count": 5,
   "id": "a289fcac",
   "metadata": {},
   "outputs": [],
   "source": [
    "# Data Splitting\n",
    "\n",
    "X = df.drop(columns=['Price']).copy()\n",
    "y = df['Price'].copy()"
   ]
  },
  {
   "cell_type": "code",
   "execution_count": 6,
   "id": "412f27b8",
   "metadata": {},
   "outputs": [],
   "source": [
    "# Split the data into training and testing sets\n",
    "from sklearn.model_selection import train_test_split\n",
    "\n",
    "X_train, X_test, y_train, y_test = train_test_split(X, y, test_size=0.2, random_state=42)"
   ]
  },
  {
   "cell_type": "code",
   "execution_count": 7,
   "id": "e1e5a00f",
   "metadata": {},
   "outputs": [
    {
     "data": {
      "text/plain": [
       "(4812, 12)"
      ]
     },
     "execution_count": 7,
     "metadata": {},
     "output_type": "execute_result"
    }
   ],
   "source": [
    "X_train.shape"
   ]
  },
  {
   "cell_type": "code",
   "execution_count": 8,
   "id": "3aa4c2bd",
   "metadata": {},
   "outputs": [],
   "source": [
    "# Splitting Columns\n",
    "\n",
    "num_cols = ['Kilometers_Driven', 'Mileage', 'Engine', 'Power', 'Seats', 'Age']  \n",
    "nom_cat_cols = ['Location', 'Fuel_Type', 'Transmission', 'Brand', 'Model']  # USE Binary ENCODING\n",
    "ord_cat_cols = ['Owner_Type']   # USE ORDINAL ENCODING"
   ]
  },
  {
   "cell_type": "markdown",
   "id": "296a7b33",
   "metadata": {},
   "source": [
    "* `Brand` and `Model` are nominal categorical features with high cardinality.  \n",
    "   binary encoding\n",
    "* `Location` is a nominal categorical feature with medium cardinality.\n",
    "   binary encoding\n",
    "* `Transmission` is a binary categorical feature.\n",
    "    one-hot encoding (take care of drop first)\n",
    "* `Fuel_Type` is a nominal categorical feature with some rare categories.\n",
    "    one-hot encoding (take care of rare categories)\n",
    "* `Owner_Type` is an ordinal categorical feature.\n",
    "   ordinal encoder"
   ]
  },
  {
   "cell_type": "markdown",
   "id": "a99da120",
   "metadata": {},
   "source": [
    "# Data Preprocessing & Base Model"
   ]
  },
  {
   "cell_type": "code",
   "execution_count": 9,
   "id": "d4148b8e",
   "metadata": {},
   "outputs": [],
   "source": [
    "# ==== IMPORTS ====\n",
    "from sklearn.impute import SimpleImputer\n",
    "from sklearn.preprocessing import RobustScaler, StandardScaler\n",
    "from sklearn.compose import ColumnTransformer\n",
    "from sklearn.pipeline import Pipeline\n",
    "from sklearn.preprocessing import OrdinalEncoder, FunctionTransformer\n",
    "from category_encoders import BinaryEncoder\n",
    "from sklearn.linear_model import LinearRegression\n",
    "from sklearn.model_selection import cross_val_score"
   ]
  },
  {
   "cell_type": "code",
   "execution_count": 10,
   "id": "761a3765",
   "metadata": {},
   "outputs": [
    {
     "name": "stdout",
     "output_type": "stream",
     "text": [
      "Cross-validated R²: 0.73 (± 0.04)\n"
     ]
    }
   ],
   "source": [
    "# Very Simple Preprocessing & Base Model\n",
    "num_cols = ['Kilometers_Driven', 'Mileage', 'Engine', 'Power', 'Seats']  \n",
    "nom_cat_cols = ['Location', 'Fuel_Type', 'Transmission', 'Brand', 'Model']\n",
    "ord_cat_cols = ['Owner_Type']\n",
    "\n",
    "imputer = SimpleImputer(strategy=\"median\")\n",
    "scaler  = StandardScaler()\n",
    "bin_enc = BinaryEncoder()\n",
    "ord_enc = OrdinalEncoder(categories=[['Fourth & Above', 'Third', 'Second', 'First']],\n",
    "                         handle_unknown=\"use_encoded_value\", unknown_value=-1)\n",
    "\n",
    "\n",
    "num_pipeline = Pipeline(steps=[ ('imputer', imputer),\n",
    "                                ('scaler', scaler)\n",
    "                              ])\n",
    "transformer = ColumnTransformer(transformers=[\n",
    "                                                ('num', num_pipeline, num_cols),\n",
    "                                                ('bin_enc', bin_enc, nom_cat_cols),\n",
    "                                                ('ord_enc', ord_enc, ord_cat_cols)\n",
    "                                            ], remainder='passthrough'\n",
    "                                )\n",
    "\n",
    "# Linear Regression\n",
    "lr = LinearRegression()\n",
    "pipe = Pipeline(steps=[ ('preprocessor', transformer),\n",
    "                        ('model', lr)\n",
    "                      ])\n",
    "\n",
    "scores = cross_val_score(pipe, X_train, y_train, cv=5, scoring='r2')\n",
    "print(\"Cross-validated R²: %.2f (± %.2f)\" % (scores.mean(), scores.std() * 2))"
   ]
  },
  {
   "cell_type": "code",
   "execution_count": 11,
   "id": "3330b5da",
   "metadata": {},
   "outputs": [],
   "source": [
    "# Custom Imputer for Mileage based on Fuel_Type\n",
    "\n",
    "from sklearn.base import BaseEstimator, TransformerMixin\n",
    "\n",
    "class MileageFuelImputer(BaseEstimator, TransformerMixin):\n",
    "    def __init__(self):\n",
    "        self.medians = None\n",
    "        self.default_median = None\n",
    "        \n",
    "    def fit(self, X, y=None):\n",
    "        if not isinstance(X, pd.DataFrame):\n",
    "            raise ValueError(\"Input X must be a pandas DataFrame\")\n",
    "        if not all(col in X.columns for col in ['Mileage', 'Fuel_Type']):\n",
    "            raise ValueError(\"X must contain 'Mileage' and 'Fuel_Type' columns\")\n",
    "        self.medians = X.groupby('Fuel_Type')['Mileage'].median()\n",
    "        self.medians['Electric'] = 0  # Configurable default\n",
    "        self.default_median = X['Mileage'].median()  # Fallback for unseen Fuel_Type\n",
    "        return self\n",
    "    \n",
    "    def transform(self, X):\n",
    "        if not isinstance(X, pd.DataFrame):\n",
    "            raise ValueError(\"Input X must be a pandas DataFrame\")\n",
    "        if not all(col in X.columns for col in ['Mileage', 'Fuel_Type']):\n",
    "            raise ValueError(\"X must contain 'Mileage' and 'Fuel_Type' columns\")\n",
    "        X = X.copy()  # Avoid modifying input\n",
    "        X['Mileage'] = X.apply(\n",
    "            lambda row: self.medians.get(row['Fuel_Type'], self.default_median)\n",
    "            if pd.isna(row['Mileage']) else row['Mileage'], axis=1)\n",
    "        return X[['Mileage']].values  # Return only Mileage\n",
    "    \n",
    "    def get_feature_names_out(self, input_features=None):\n",
    "        return ['Mileage']  # Explicitly define output feature name\n",
    "    "
   ]
  },
  {
   "cell_type": "code",
   "execution_count": 12,
   "id": "561f6143",
   "metadata": {},
   "outputs": [
    {
     "name": "stdout",
     "output_type": "stream",
     "text": [
      "Cross-validated R²: 0.73 (± 0.04)\n"
     ]
    }
   ],
   "source": [
    "# Improved Preprocessing & Base Model\n",
    "\n",
    "num_cols_norm = ['Engine', 'Power', 'Seats']  \n",
    "num_cols_log = ['Kilometers_Driven']\n",
    "nom_cat_cols = ['Location', 'Fuel_Type', 'Transmission', 'Brand', 'Model']\n",
    "ord_cat_cols = ['Owner_Type']\n",
    "\n",
    "imputer = SimpleImputer(strategy=\"median\")\n",
    "mileage_imputer = MileageFuelImputer()\n",
    "scaler  = RobustScaler()\n",
    "bin_enc = BinaryEncoder()\n",
    "ord_enc = OrdinalEncoder(categories=[['Fourth & Above', 'Third', 'Second', 'First']],\n",
    "                         handle_unknown=\"use_encoded_value\", unknown_value=-1)\n",
    "\n",
    "log_transformer = FunctionTransformer(np.log1p, feature_names_out=\"one-to-one\" )  \n",
    "\n",
    "num_pipeline = Pipeline(steps=[ ('imputer', imputer),\n",
    "                                ('scaler', scaler)\n",
    "                              ])\n",
    "\n",
    "mileage_pipeline = Pipeline(steps=[ ('imputer', mileage_imputer),\n",
    "                                    ('scaler', scaler)\n",
    "                                  ])\n",
    "\n",
    "log_pipeline = Pipeline(steps=[ ('imputer', imputer),\n",
    "                              ('log_transform', log_transformer),\n",
    "                              ('scaler', scaler)\n",
    "                            ])\n",
    "transformer = ColumnTransformer(transformers=[\n",
    "                                                ('num', num_pipeline, num_cols_norm),\n",
    "                                                ('mileage', mileage_pipeline, ['Mileage', 'Fuel_Type']),\n",
    "                                                ('log_transform', log_pipeline, num_cols_log),\n",
    "                                                ('bin_enc', bin_enc, nom_cat_cols),\n",
    "                                                ('ord_enc', ord_enc, ord_cat_cols)\n",
    "                                            ], remainder='passthrough'\n",
    "                                )\n",
    "\n",
    "\n",
    "# Linear Regression\n",
    "lr = LinearRegression()\n",
    "pipe = Pipeline(steps=[ ('preprocessor', transformer),\n",
    "                        ('model', lr)\n",
    "                      ])\n",
    "\n",
    "scores = cross_val_score(pipe, X_train, y_train, cv=5, scoring='r2')\n",
    "print(\"Cross-validated R²: %.2f (± %.2f)\" % (scores.mean(), scores.std() * 2))"
   ]
  },
  {
   "cell_type": "markdown",
   "id": "53d92b09",
   "metadata": {},
   "source": [
    "# Base Model"
   ]
  },
  {
   "cell_type": "code",
   "execution_count": 13,
   "id": "96505b9d",
   "metadata": {},
   "outputs": [
    {
     "name": "stdout",
     "output_type": "stream",
     "text": [
      "Cross-validated R²: 0.88 (± 0.01)\n"
     ]
    }
   ],
   "source": [
    "# Linear Regression\n",
    "lr = LinearRegression()\n",
    "pipe = Pipeline(steps=[ ('preprocessor', transformer),\n",
    "                        ('model', lr)\n",
    "                      ])\n",
    "\n",
    "# Applying Log Transformation to Price\n",
    "y_train_log = np.log1p(y_train)\n",
    "y_test_log = np.log1p(y_test)\n",
    "\n",
    "scores = cross_val_score(pipe, X_train, y_train_log, cv=5, scoring='r2')\n",
    "print(\"Cross-validated R²: %.2f (± %.2f)\" % (scores.mean(), scores.std() * 2))"
   ]
  },
  {
   "cell_type": "code",
   "execution_count": 14,
   "id": "1a28c9f8",
   "metadata": {},
   "outputs": [
    {
     "ename": "TypeError",
     "evalue": "BaseEncoder.get_feature_names_out() takes 1 positional argument but 2 were given",
     "output_type": "error",
     "traceback": [
      "\u001b[31m---------------------------------------------------------------------------\u001b[39m",
      "\u001b[31mTypeError\u001b[39m                                 Traceback (most recent call last)",
      "\u001b[36mCell\u001b[39m\u001b[36m \u001b[39m\u001b[32mIn[14]\u001b[39m\u001b[32m, line 7\u001b[39m\n\u001b[32m      4\u001b[39m X_test_transformed = transformer.transform(X_test)\n\u001b[32m      5\u001b[39m lr.fit(X_train_transformed, y_train_log)\n\u001b[32m----> \u001b[39m\u001b[32m7\u001b[39m feature_importance = \u001b[38;5;28mdict\u001b[39m(\u001b[38;5;28mzip\u001b[39m(\u001b[43mtransformer\u001b[49m\u001b[43m.\u001b[49m\u001b[43mget_feature_names_out\u001b[49m\u001b[43m(\u001b[49m\u001b[43m)\u001b[49m, lr.coef_))\n\u001b[32m      8\u001b[39m feature_importance = pd.Series(feature_importance).sort_values()\n\u001b[32m      9\u001b[39m px.bar(feature_importance, width=\u001b[32m800\u001b[39m, height=\u001b[32m900\u001b[39m, orientation=\u001b[33m'\u001b[39m\u001b[33mh\u001b[39m\u001b[33m'\u001b[39m, title=\u001b[33m'\u001b[39m\u001b[33mFeature Importance\u001b[39m\u001b[33m'\u001b[39m)\n",
      "\u001b[36mFile \u001b[39m\u001b[32m/workspaces/Car-Price-Prediction/car-env/lib/python3.11/site-packages/sklearn/compose/_column_transformer.py:523\u001b[39m, in \u001b[36mColumnTransformer.get_feature_names_out\u001b[39m\u001b[34m(self, input_features)\u001b[39m\n\u001b[32m    521\u001b[39m transformer_with_feature_names_out = []\n\u001b[32m    522\u001b[39m \u001b[38;5;28;01mfor\u001b[39;00m name, trans, column, _ \u001b[38;5;129;01min\u001b[39;00m \u001b[38;5;28mself\u001b[39m._iter(fitted=\u001b[38;5;28;01mTrue\u001b[39;00m):\n\u001b[32m--> \u001b[39m\u001b[32m523\u001b[39m     feature_names_out = \u001b[38;5;28;43mself\u001b[39;49m\u001b[43m.\u001b[49m\u001b[43m_get_feature_name_out_for_transformer\u001b[49m\u001b[43m(\u001b[49m\n\u001b[32m    524\u001b[39m \u001b[43m        \u001b[49m\u001b[43mname\u001b[49m\u001b[43m,\u001b[49m\u001b[43m \u001b[49m\u001b[43mtrans\u001b[49m\u001b[43m,\u001b[49m\u001b[43m \u001b[49m\u001b[43mcolumn\u001b[49m\u001b[43m,\u001b[49m\u001b[43m \u001b[49m\u001b[43minput_features\u001b[49m\n\u001b[32m    525\u001b[39m \u001b[43m    \u001b[49m\u001b[43m)\u001b[49m\n\u001b[32m    526\u001b[39m     \u001b[38;5;28;01mif\u001b[39;00m feature_names_out \u001b[38;5;129;01mis\u001b[39;00m \u001b[38;5;28;01mNone\u001b[39;00m:\n\u001b[32m    527\u001b[39m         \u001b[38;5;28;01mcontinue\u001b[39;00m\n",
      "\u001b[36mFile \u001b[39m\u001b[32m/workspaces/Car-Price-Prediction/car-env/lib/python3.11/site-packages/sklearn/compose/_column_transformer.py:495\u001b[39m, in \u001b[36mColumnTransformer._get_feature_name_out_for_transformer\u001b[39m\u001b[34m(self, name, trans, column, feature_names_in)\u001b[39m\n\u001b[32m    490\u001b[39m \u001b[38;5;28;01mif\u001b[39;00m \u001b[38;5;129;01mnot\u001b[39;00m \u001b[38;5;28mhasattr\u001b[39m(trans, \u001b[33m\"\u001b[39m\u001b[33mget_feature_names_out\u001b[39m\u001b[33m\"\u001b[39m):\n\u001b[32m    491\u001b[39m     \u001b[38;5;28;01mraise\u001b[39;00m \u001b[38;5;167;01mAttributeError\u001b[39;00m(\n\u001b[32m    492\u001b[39m         \u001b[33mf\u001b[39m\u001b[33m\"\u001b[39m\u001b[33mTransformer \u001b[39m\u001b[38;5;132;01m{\u001b[39;00mname\u001b[38;5;132;01m}\u001b[39;00m\u001b[33m (type \u001b[39m\u001b[38;5;132;01m{\u001b[39;00m\u001b[38;5;28mtype\u001b[39m(trans).\u001b[34m__name__\u001b[39m\u001b[38;5;132;01m}\u001b[39;00m\u001b[33m) does \u001b[39m\u001b[33m\"\u001b[39m\n\u001b[32m    493\u001b[39m         \u001b[33m\"\u001b[39m\u001b[33mnot provide get_feature_names_out.\u001b[39m\u001b[33m\"\u001b[39m\n\u001b[32m    494\u001b[39m     )\n\u001b[32m--> \u001b[39m\u001b[32m495\u001b[39m \u001b[38;5;28;01mreturn\u001b[39;00m \u001b[43mtrans\u001b[49m\u001b[43m.\u001b[49m\u001b[43mget_feature_names_out\u001b[49m\u001b[43m(\u001b[49m\u001b[43mnames\u001b[49m\u001b[43m)\u001b[49m\n",
      "\u001b[31mTypeError\u001b[39m: BaseEncoder.get_feature_names_out() takes 1 positional argument but 2 were given"
     ]
    }
   ],
   "source": [
    "import plotly.express as px\n",
    "\n",
    "X_train_transformed = transformer.fit_transform(X_train)\n",
    "X_test_transformed = transformer.transform(X_test)\n",
    "lr.fit(X_train_transformed, y_train_log)\n",
    "\n",
    "feature_importance = dict(zip(transformer.get_feature_names_out(), lr.coef_))\n",
    "feature_importance = pd.Series(feature_importance).sort_values()\n",
    "px.bar(feature_importance, width=800, height=900, orientation='h', title='Feature Importance')"
   ]
  },
  {
   "cell_type": "code",
   "execution_count": 15,
   "id": "e3325ca9",
   "metadata": {},
   "outputs": [],
   "source": [
    "import pickle\n",
    "\n",
    "# Save the unprocessed data\n",
    "with open('../data/unprocessed_data.pkl', 'wb') as f:\n",
    "    pickle.dump((X_train, y_train, X_test, y_test), f)\n",
    "\n",
    "# Save the preprocessed data and Log Price\n",
    "with open('../data/preprocessed_data.pkl', 'wb') as f:\n",
    "    pickle.dump((X_train_transformed, y_train_log, X_test_transformed, y_test_log), f)\n",
    "\n"
   ]
  },
  {
   "cell_type": "code",
   "execution_count": null,
   "id": "b83783bc",
   "metadata": {},
   "outputs": [],
   "source": []
  },
  {
   "cell_type": "code",
   "execution_count": null,
   "id": "f93d0fe9",
   "metadata": {},
   "outputs": [],
   "source": []
  }
 ],
 "metadata": {
  "kernelspec": {
   "display_name": "car-env",
   "language": "python",
   "name": "python3"
  },
  "language_info": {
   "codemirror_mode": {
    "name": "ipython",
    "version": 3
   },
   "file_extension": ".py",
   "mimetype": "text/x-python",
   "name": "python",
   "nbconvert_exporter": "python",
   "pygments_lexer": "ipython3",
   "version": "3.11.13"
  }
 },
 "nbformat": 4,
 "nbformat_minor": 5
}
